{
 "cells": [
  {
   "cell_type": "markdown",
   "metadata": {},
   "source": [
    "# Preparation"
   ]
  },
  {
   "cell_type": "markdown",
   "metadata": {},
   "source": [
    "Import tools"
   ]
  },
  {
   "cell_type": "code",
   "execution_count": 1,
   "metadata": {},
   "outputs": [],
   "source": [
    "import pandas as pd                               # basic data tools\n",
    "import numpy as np\n",
    "from sklearn.preprocessing import LabelEncoder    # reprocessing tools\n",
    "from sklearn.preprocessing import StandardScaler\n",
    "from sklearn.model_selection import GridSearchCV  # model selection\n",
    "from sklearn import model_selection\n",
    "from sklearn import metrics\n",
    "import joblib                                     # model saving\n",
    "import datetime\n",
    "import lightgbm as lgbm                           # Models: # # LightGBM\n",
    "from xgboost import XGBClassifier                           # # XGBoost\n",
    "from sklearn.ensemble import RandomForestClassifier         # # Random Forest\n",
    "import seaborn as sns                             # plotting\n",
    "from matplotlib.pyplot import savefig"
   ]
  },
  {
   "cell_type": "markdown",
   "metadata": {},
   "source": [
    "Accessing data:"
   ]
  },
  {
   "cell_type": "code",
   "execution_count": 2,
   "metadata": {},
   "outputs": [],
   "source": [
    "# df = pd.read_csv('../data/hotel_bookings.csv') \n",
    "train = pd.read_csv('../data/train.csv') # pre-spllited dataset in previous work\n",
    "test = pd.read_csv('../data/test.csv')\n",
    "\n",
    "# Extra features spreadsheet for hepling understanding\n",
    "features = pd.read_csv('../data/feature_description.csv', header=None)\n",
    "features.columns = ['feature', 'description']"
   ]
  },
  {
   "cell_type": "markdown",
   "metadata": {},
   "source": [
    "# Cleaning, Exploration and Basic Feature Engineering"
   ]
  },
  {
   "cell_type": "markdown",
   "metadata": {},
   "source": [
    "Task alread done, see `part1.ipynb` if needed."
   ]
  },
  {
   "cell_type": "markdown",
   "metadata": {},
   "source": [
    "# Preparation"
   ]
  },
  {
   "cell_type": "markdown",
   "metadata": {},
   "source": [
    "Check features:"
   ]
  },
  {
   "cell_type": "code",
   "execution_count": 3,
   "metadata": {},
   "outputs": [
    {
     "data": {
      "text/html": [
       "<div>\n",
       "<style scoped>\n",
       "    .dataframe tbody tr th:only-of-type {\n",
       "        vertical-align: middle;\n",
       "    }\n",
       "\n",
       "    .dataframe tbody tr th {\n",
       "        vertical-align: top;\n",
       "    }\n",
       "\n",
       "    .dataframe thead th {\n",
       "        text-align: right;\n",
       "    }\n",
       "</style>\n",
       "<table border=\"1\" class=\"dataframe\">\n",
       "  <thead>\n",
       "    <tr style=\"text-align: right;\">\n",
       "      <th></th>\n",
       "      <th>feature</th>\n",
       "      <th>description</th>\n",
       "      <th>count</th>\n",
       "      <th>mean</th>\n",
       "      <th>std</th>\n",
       "      <th>min</th>\n",
       "      <th>25%</th>\n",
       "      <th>50%</th>\n",
       "      <th>75%</th>\n",
       "      <th>max</th>\n",
       "    </tr>\n",
       "  </thead>\n",
       "  <tbody>\n",
       "    <tr>\n",
       "      <th>1</th>\n",
       "      <td>is_canceled</td>\n",
       "      <td>order canceled (1) or not (0)</td>\n",
       "      <td>95512.0</td>\n",
       "      <td>0.370414</td>\n",
       "      <td>0.482918</td>\n",
       "      <td>0.00</td>\n",
       "      <td>0.0000</td>\n",
       "      <td>0.0</td>\n",
       "      <td>1.0</td>\n",
       "      <td>1.0</td>\n",
       "    </tr>\n",
       "    <tr>\n",
       "      <th>2</th>\n",
       "      <td>lead_time</td>\n",
       "      <td>Number of days that elapsed between the entering date of the booking into the PMS and the arrival date</td>\n",
       "      <td>95512.0</td>\n",
       "      <td>104.151583</td>\n",
       "      <td>106.821437</td>\n",
       "      <td>0.00</td>\n",
       "      <td>18.0000</td>\n",
       "      <td>69.0</td>\n",
       "      <td>160.0</td>\n",
       "      <td>737.0</td>\n",
       "    </tr>\n",
       "    <tr>\n",
       "      <th>5</th>\n",
       "      <td>arrival_date_week_number</td>\n",
       "      <td>Week number of year for arrival date</td>\n",
       "      <td>95512.0</td>\n",
       "      <td>27.171047</td>\n",
       "      <td>13.593740</td>\n",
       "      <td>1.00</td>\n",
       "      <td>16.0000</td>\n",
       "      <td>28.0</td>\n",
       "      <td>38.0</td>\n",
       "      <td>53.0</td>\n",
       "    </tr>\n",
       "    <tr>\n",
       "      <th>6</th>\n",
       "      <td>arrival_date_day_of_month</td>\n",
       "      <td>Day of arrival date</td>\n",
       "      <td>95512.0</td>\n",
       "      <td>15.797041</td>\n",
       "      <td>8.785365</td>\n",
       "      <td>1.00</td>\n",
       "      <td>8.0000</td>\n",
       "      <td>16.0</td>\n",
       "      <td>23.0</td>\n",
       "      <td>31.0</td>\n",
       "    </tr>\n",
       "    <tr>\n",
       "      <th>7</th>\n",
       "      <td>stays_in_weekend_nights</td>\n",
       "      <td>Number of weekend nights (Saturday or Sunday) the guest stayed or booked to stay at the hotel</td>\n",
       "      <td>95512.0</td>\n",
       "      <td>0.927852</td>\n",
       "      <td>0.997446</td>\n",
       "      <td>0.00</td>\n",
       "      <td>0.0000</td>\n",
       "      <td>1.0</td>\n",
       "      <td>2.0</td>\n",
       "      <td>19.0</td>\n",
       "    </tr>\n",
       "    <tr>\n",
       "      <th>8</th>\n",
       "      <td>stays_in_week_nights</td>\n",
       "      <td>Number of week nights (Monday to Friday) the guest stayed or booked to stay at the hotel</td>\n",
       "      <td>95512.0</td>\n",
       "      <td>2.500806</td>\n",
       "      <td>1.905649</td>\n",
       "      <td>0.00</td>\n",
       "      <td>1.0000</td>\n",
       "      <td>2.0</td>\n",
       "      <td>3.0</td>\n",
       "      <td>50.0</td>\n",
       "    </tr>\n",
       "    <tr>\n",
       "      <th>9</th>\n",
       "      <td>adults</td>\n",
       "      <td>Number of adults</td>\n",
       "      <td>95512.0</td>\n",
       "      <td>1.856866</td>\n",
       "      <td>0.594198</td>\n",
       "      <td>0.00</td>\n",
       "      <td>2.0000</td>\n",
       "      <td>2.0</td>\n",
       "      <td>2.0</td>\n",
       "      <td>55.0</td>\n",
       "    </tr>\n",
       "    <tr>\n",
       "      <th>10</th>\n",
       "      <td>children</td>\n",
       "      <td>Number of children</td>\n",
       "      <td>95512.0</td>\n",
       "      <td>0.104175</td>\n",
       "      <td>0.399210</td>\n",
       "      <td>0.00</td>\n",
       "      <td>0.0000</td>\n",
       "      <td>0.0</td>\n",
       "      <td>0.0</td>\n",
       "      <td>10.0</td>\n",
       "    </tr>\n",
       "    <tr>\n",
       "      <th>11</th>\n",
       "      <td>babies</td>\n",
       "      <td>Number of babies</td>\n",
       "      <td>95512.0</td>\n",
       "      <td>0.008020</td>\n",
       "      <td>0.094440</td>\n",
       "      <td>0.00</td>\n",
       "      <td>0.0000</td>\n",
       "      <td>0.0</td>\n",
       "      <td>0.0</td>\n",
       "      <td>9.0</td>\n",
       "    </tr>\n",
       "    <tr>\n",
       "      <th>16</th>\n",
       "      <td>is_repeated_guest</td>\n",
       "      <td>Value indicating if the booking name was from a repeated guest (1) or not (0)</td>\n",
       "      <td>95512.0</td>\n",
       "      <td>0.031640</td>\n",
       "      <td>0.175041</td>\n",
       "      <td>0.00</td>\n",
       "      <td>0.0000</td>\n",
       "      <td>0.0</td>\n",
       "      <td>0.0</td>\n",
       "      <td>1.0</td>\n",
       "    </tr>\n",
       "    <tr>\n",
       "      <th>17</th>\n",
       "      <td>previous_cancellations</td>\n",
       "      <td>Number of previous bookings that were cancelled by the customer prior to the current booking</td>\n",
       "      <td>95512.0</td>\n",
       "      <td>0.086617</td>\n",
       "      <td>0.830586</td>\n",
       "      <td>0.00</td>\n",
       "      <td>0.0000</td>\n",
       "      <td>0.0</td>\n",
       "      <td>0.0</td>\n",
       "      <td>26.0</td>\n",
       "    </tr>\n",
       "    <tr>\n",
       "      <th>18</th>\n",
       "      <td>previous_bookings_not_canceled</td>\n",
       "      <td>Number of previous bookings not cancelled by the customer prior to the current booking</td>\n",
       "      <td>95512.0</td>\n",
       "      <td>0.139899</td>\n",
       "      <td>1.546800</td>\n",
       "      <td>0.00</td>\n",
       "      <td>0.0000</td>\n",
       "      <td>0.0</td>\n",
       "      <td>0.0</td>\n",
       "      <td>72.0</td>\n",
       "    </tr>\n",
       "    <tr>\n",
       "      <th>21</th>\n",
       "      <td>booking_changes</td>\n",
       "      <td>Number of changes/amendments made to the booking from the moment the booking was entered on the PMS until the moment of check-in or cancellation</td>\n",
       "      <td>95512.0</td>\n",
       "      <td>0.219972</td>\n",
       "      <td>0.649299</td>\n",
       "      <td>0.00</td>\n",
       "      <td>0.0000</td>\n",
       "      <td>0.0</td>\n",
       "      <td>0.0</td>\n",
       "      <td>21.0</td>\n",
       "    </tr>\n",
       "    <tr>\n",
       "      <th>23</th>\n",
       "      <td>agent</td>\n",
       "      <td>ID of the travel agency that made the booking</td>\n",
       "      <td>82419.0</td>\n",
       "      <td>86.795436</td>\n",
       "      <td>110.798087</td>\n",
       "      <td>1.00</td>\n",
       "      <td>9.0000</td>\n",
       "      <td>14.0</td>\n",
       "      <td>229.0</td>\n",
       "      <td>535.0</td>\n",
       "    </tr>\n",
       "    <tr>\n",
       "      <th>24</th>\n",
       "      <td>company</td>\n",
       "      <td>ID of the company/entity that made the booking or responsible for paying the booking. ID is presented instead of designation for anonymity reasons</td>\n",
       "      <td>5454.0</td>\n",
       "      <td>189.881371</td>\n",
       "      <td>132.301220</td>\n",
       "      <td>6.00</td>\n",
       "      <td>62.0000</td>\n",
       "      <td>179.0</td>\n",
       "      <td>270.0</td>\n",
       "      <td>543.0</td>\n",
       "    </tr>\n",
       "    <tr>\n",
       "      <th>25</th>\n",
       "      <td>days_in_waiting_list</td>\n",
       "      <td>Number of days the booking was in the waiting list before it was confirmed to the customer</td>\n",
       "      <td>95512.0</td>\n",
       "      <td>2.307710</td>\n",
       "      <td>17.414238</td>\n",
       "      <td>0.00</td>\n",
       "      <td>0.0000</td>\n",
       "      <td>0.0</td>\n",
       "      <td>0.0</td>\n",
       "      <td>391.0</td>\n",
       "    </tr>\n",
       "    <tr>\n",
       "      <th>27</th>\n",
       "      <td>adr</td>\n",
       "      <td>Average Daily Rate as defined by dividing the sum of all lodging transactions by the total number of staying nights</td>\n",
       "      <td>95512.0</td>\n",
       "      <td>101.871490</td>\n",
       "      <td>51.137746</td>\n",
       "      <td>-6.38</td>\n",
       "      <td>69.0075</td>\n",
       "      <td>95.0</td>\n",
       "      <td>126.0</td>\n",
       "      <td>5400.0</td>\n",
       "    </tr>\n",
       "    <tr>\n",
       "      <th>28</th>\n",
       "      <td>required_car_parking_spaces</td>\n",
       "      <td>Number of car parking spaces required by the customer</td>\n",
       "      <td>95512.0</td>\n",
       "      <td>0.062149</td>\n",
       "      <td>0.245172</td>\n",
       "      <td>0.00</td>\n",
       "      <td>0.0000</td>\n",
       "      <td>0.0</td>\n",
       "      <td>0.0</td>\n",
       "      <td>8.0</td>\n",
       "    </tr>\n",
       "    <tr>\n",
       "      <th>29</th>\n",
       "      <td>total_of_special_requests</td>\n",
       "      <td>Number of special requests made by the customer (e.g. twin bed or high floor)</td>\n",
       "      <td>95512.0</td>\n",
       "      <td>0.572525</td>\n",
       "      <td>0.793103</td>\n",
       "      <td>0.00</td>\n",
       "      <td>0.0000</td>\n",
       "      <td>0.0</td>\n",
       "      <td>1.0</td>\n",
       "      <td>5.0</td>\n",
       "    </tr>\n",
       "  </tbody>\n",
       "</table>\n",
       "</div>"
      ],
      "text/plain": [
       "                           feature  \\\n",
       "1                      is_canceled   \n",
       "2                        lead_time   \n",
       "5         arrival_date_week_number   \n",
       "6        arrival_date_day_of_month   \n",
       "7          stays_in_weekend_nights   \n",
       "8             stays_in_week_nights   \n",
       "9                           adults   \n",
       "10                        children   \n",
       "11                          babies   \n",
       "16               is_repeated_guest   \n",
       "17          previous_cancellations   \n",
       "18  previous_bookings_not_canceled   \n",
       "21                 booking_changes   \n",
       "23                           agent   \n",
       "24                         company   \n",
       "25            days_in_waiting_list   \n",
       "27                             adr   \n",
       "28     required_car_parking_spaces   \n",
       "29       total_of_special_requests   \n",
       "\n",
       "                                                                                                                                            description  \\\n",
       "1                                                                                                                         order canceled (1) or not (0)   \n",
       "2                                                Number of days that elapsed between the entering date of the booking into the PMS and the arrival date   \n",
       "5                                                                                                                  Week number of year for arrival date   \n",
       "6                                                                                                                                   Day of arrival date   \n",
       "7                                                         Number of weekend nights (Saturday or Sunday) the guest stayed or booked to stay at the hotel   \n",
       "8                                                              Number of week nights (Monday to Friday) the guest stayed or booked to stay at the hotel   \n",
       "9                                                                                                                                      Number of adults   \n",
       "10                                                                                                                                   Number of children   \n",
       "11                                                                                                                                     Number of babies   \n",
       "16                                                                        Value indicating if the booking name was from a repeated guest (1) or not (0)   \n",
       "17                                                         Number of previous bookings that were cancelled by the customer prior to the current booking   \n",
       "18                                                               Number of previous bookings not cancelled by the customer prior to the current booking   \n",
       "21     Number of changes/amendments made to the booking from the moment the booking was entered on the PMS until the moment of check-in or cancellation   \n",
       "23                                                                                                        ID of the travel agency that made the booking   \n",
       "24   ID of the company/entity that made the booking or responsible for paying the booking. ID is presented instead of designation for anonymity reasons   \n",
       "25                                                           Number of days the booking was in the waiting list before it was confirmed to the customer   \n",
       "27                                  Average Daily Rate as defined by dividing the sum of all lodging transactions by the total number of staying nights   \n",
       "28                                                                                                Number of car parking spaces required by the customer   \n",
       "29                                                                        Number of special requests made by the customer (e.g. twin bed or high floor)   \n",
       "\n",
       "      count        mean         std   min      25%    50%    75%     max  \n",
       "1   95512.0    0.370414    0.482918  0.00   0.0000    0.0    1.0     1.0  \n",
       "2   95512.0  104.151583  106.821437  0.00  18.0000   69.0  160.0   737.0  \n",
       "5   95512.0   27.171047   13.593740  1.00  16.0000   28.0   38.0    53.0  \n",
       "6   95512.0   15.797041    8.785365  1.00   8.0000   16.0   23.0    31.0  \n",
       "7   95512.0    0.927852    0.997446  0.00   0.0000    1.0    2.0    19.0  \n",
       "8   95512.0    2.500806    1.905649  0.00   1.0000    2.0    3.0    50.0  \n",
       "9   95512.0    1.856866    0.594198  0.00   2.0000    2.0    2.0    55.0  \n",
       "10  95512.0    0.104175    0.399210  0.00   0.0000    0.0    0.0    10.0  \n",
       "11  95512.0    0.008020    0.094440  0.00   0.0000    0.0    0.0     9.0  \n",
       "16  95512.0    0.031640    0.175041  0.00   0.0000    0.0    0.0     1.0  \n",
       "17  95512.0    0.086617    0.830586  0.00   0.0000    0.0    0.0    26.0  \n",
       "18  95512.0    0.139899    1.546800  0.00   0.0000    0.0    0.0    72.0  \n",
       "21  95512.0    0.219972    0.649299  0.00   0.0000    0.0    0.0    21.0  \n",
       "23  82419.0   86.795436  110.798087  1.00   9.0000   14.0  229.0   535.0  \n",
       "24   5454.0  189.881371  132.301220  6.00  62.0000  179.0  270.0   543.0  \n",
       "25  95512.0    2.307710   17.414238  0.00   0.0000    0.0    0.0   391.0  \n",
       "27  95512.0  101.871490   51.137746 -6.38  69.0075   95.0  126.0  5400.0  \n",
       "28  95512.0    0.062149    0.245172  0.00   0.0000    0.0    0.0     8.0  \n",
       "29  95512.0    0.572525    0.793103  0.00   0.0000    0.0    1.0     5.0  "
      ]
     },
     "execution_count": 3,
     "metadata": {},
     "output_type": "execute_result"
    }
   ],
   "source": [
    "# show features\n",
    "pd.set_option(\"display.max_colwidth\", 200)\n",
    "pd.merge(features, train.describe().T, left_on='feature', right_index=True, how=\"right\")"
   ]
  },
  {
   "cell_type": "markdown",
   "metadata": {},
   "source": [
    "Use plain integer to encode categrical features according to [official documentation](https://lightgbm.readthedocs.io/en/latest/Advanced-Topics.html) and explicit explanation in sector [Parameters](https://lightgbm.readthedocs.io/en/latest/Parameters.html#categorical_feature)."
   ]
  },
  {
   "cell_type": "markdown",
   "metadata": {},
   "source": [
    "## Preprocessing"
   ]
  },
  {
   "cell_type": "markdown",
   "metadata": {},
   "source": [
    "Encoding categorical features:"
   ]
  },
  {
   "cell_type": "code",
   "execution_count": 4,
   "metadata": {},
   "outputs": [],
   "source": [
    "categoricals = [\n",
    "    'hotel',\n",
    "    'arrival_date_month',\n",
    "    'meal',\n",
    "    'country',\n",
    "    'market_segment',\n",
    "    'distribution_channel',\n",
    "    'reserved_room_type',\n",
    "    'assigned_room_type',\n",
    "    'deposit_type',\n",
    "    'agent',\n",
    "    'company',\n",
    "    'customer_type',\n",
    "]\n",
    "\n",
    "df = train.append(test) # construct a full dataframe for consistent encoding\n",
    "df = df.fillna('0')\n",
    "df['children'] = df['children'].astype(int) # type convertting\n",
    "df_cat_tmp = df[categoricals].astype(str).apply(LabelEncoder().fit_transform) # encode cat columns\n",
    "# df_encoded = pd.merge(df.drop(categoricals, axis=1), df_cat_tmp, left_index=True, right_index=True) # merge numeric and encoded cat columns\n",
    "df[categoricals] = df_cat_tmp[categoricals].astype(int) # merge numeric and encoded cat columns\n",
    "train_encoded = df.iloc[:len(train)]\n",
    "test_encoded = df.iloc[len(train):]"
   ]
  },
  {
   "cell_type": "markdown",
   "metadata": {},
   "source": [
    "Splitting encoded dataset:"
   ]
  },
  {
   "cell_type": "code",
   "execution_count": 5,
   "metadata": {},
   "outputs": [],
   "source": [
    "target = 'is_canceled' # splitting features and target\n",
    "\n",
    "X_train, X_test = train_encoded.drop(target, axis=1), test_encoded.drop(target, axis=1)\n",
    "y_train, y_test = train_encoded[target], test_encoded[target]"
   ]
  },
  {
   "cell_type": "markdown",
   "metadata": {},
   "source": [
    "Standarzation (note that categorical features ignored due to model requirements):"
   ]
  },
  {
   "cell_type": "code",
   "execution_count": 6,
   "metadata": {},
   "outputs": [],
   "source": [
    "X_num_train, X_num_test = X_train.drop(categoricals, axis=1),  X_test.drop(categoricals, axis=1) # extracting numerical features\n",
    "\n",
    "# scaling\n",
    "scaler = StandardScaler()\n",
    "scaler.fit(X_num_train)\n",
    "scaled_features_train = scaler.transform(X_num_train)\n",
    "scaled_features_test = scaler.transform(X_num_test)\n",
    "\n",
    "# merge numeric & categorical features\n",
    "scaled_features_df_train = pd.DataFrame(scaled_features_train, index=X_num_train.index, columns=X_num_train.columns)\n",
    "scaled_features_df_test = pd.DataFrame(scaled_features_test, index=X_num_test.index, columns=X_num_test.columns)\n",
    "\n",
    "# create standerized dataframes\n",
    "X_train_std = pd.merge(X_train[categoricals], scaled_features_df_train, left_index=True, right_index=True)\n",
    "X_test_std = pd.merge(X_test[categoricals], scaled_features_df_test, left_index=True, right_index=True)"
   ]
  },
  {
   "cell_type": "markdown",
   "metadata": {},
   "source": [
    "# Modelling"
   ]
  },
  {
   "cell_type": "markdown",
   "metadata": {},
   "source": [
    "Define a cutomized DridSearchCV function for convinience:"
   ]
  },
  {
   "cell_type": "code",
   "execution_count": 7,
   "metadata": {},
   "outputs": [],
   "source": [
    "def algorithm_pipeline(model, \\\n",
    "                       param_grid, \\\n",
    "                       X_train_data = X_train_std, \\\n",
    "                       X_test_data = X_test_std, \\\n",
    "                       y_train_data = y_train, \\\n",
    "                       y_test_data = y_test, \\\n",
    "                       cv=10, \\\n",
    "                       scoring_fit='accuracy',\n",
    "                       do_probabilities = False):\n",
    "    \n",
    "    gs = GridSearchCV(\n",
    "        estimator=model,\n",
    "        param_grid=param_grid, \n",
    "        cv=cv, \n",
    "        n_jobs=-1, \n",
    "        scoring=scoring_fit,\n",
    "        verbose=2,\n",
    "        refit=True # return the best refitted model\n",
    "    )\n",
    "    \n",
    "    fitted_model = gs.fit(X_train_data, y_train_data)\n",
    "    \n",
    "    if do_probabilities:\n",
    "      y_pred = fitted_model.predict_proba(X_test_data)\n",
    "    else:\n",
    "      y_pred = fitted_model.predict(X_test_data)\n",
    "    \n",
    "    return fitted_model, y_pred"
   ]
  },
  {
   "cell_type": "code",
   "execution_count": null,
   "metadata": {},
   "outputs": [],
   "source": [
    "1. Log"
   ]
  },
  {
   "cell_type": "markdown",
   "metadata": {},
   "source": [
    "## 2. LightGBM"
   ]
  },
  {
   "cell_type": "markdown",
   "metadata": {},
   "source": [
    "A fast, distributed, high performance gradient boosting (GBT, GBDT, GBRT, GBM or MART) framework based on decision tree algorithms, used for ranking, classification and many other machine learning tasks.  \n",
    "  \n",
    "[GitHub](https://github.com/microsoft/LightGBM) | [Documentation](https://lightgbm.readthedocs.io/en/latest/) | \n",
    "[Parameter Tuning (official tutorial)](https://lightgbm.readthedocs.io/en/latest/Parameters-Tuning.html)"
   ]
  },
  {
   "cell_type": "code",
   "execution_count": 33,
   "metadata": {},
   "outputs": [
    {
     "name": "stdout",
     "output_type": "stream",
     "text": [
      "Fitting 3 folds for each of 81 candidates, totalling 243 fits\n"
     ]
    },
    {
     "name": "stderr",
     "output_type": "stream",
     "text": [
      "[Parallel(n_jobs=-1)]: Using backend LokyBackend with 6 concurrent workers.\n",
      "[Parallel(n_jobs=-1)]: Done  29 tasks      | elapsed:  3.8min\n",
      "[Parallel(n_jobs=-1)]: Done 150 tasks      | elapsed: 19.9min\n",
      "[Parallel(n_jobs=-1)]: Done 243 out of 243 | elapsed: 95.9min finished\n"
     ]
    },
    {
     "name": "stdout",
     "output_type": "stream",
     "text": [
      "0.8895426638415075\n",
      "{'feature_fraction': 0.5, 'lambda_l2': 0.3, 'max_depth': 25, 'n_estimators': 3000, 'num_leaves': 50, 'objective': 'binary'}\n"
     ]
    }
   ],
   "source": [
    "# !pip install lightgbm # if not installed\n",
    "lgbmclf = lgbm.LGBMClassifier()\n",
    "param_grid = {\n",
    "#     'objective':['binary','cross_entropy'],\n",
    "    'objective':['binary'],\n",
    "#     'boosting':['gbdt', 'dart'],\n",
    "#     'boosting':['dart'],\n",
    "    'n_estimators': [3000],\n",
    "    'num_leaves': [25, 50, 100],\n",
    "#     'min_data_in_leaf':[]\n",
    "    'max_depth': [10, 25, 50],\n",
    "#     'reg_alpha': [1.1, 1.3],\n",
    "#     'reg_lambda': [1.1, 1.3],\n",
    "    'lambda_l2': [0.1, 0.3, 0.5],\n",
    "#     'min_split_gain': [0,  0.5],\n",
    "    'feature_fraction': [0.3, 0.5, 0.7],\n",
    "#     'subsample': [0.7, 0.9],\n",
    "#     'subsample_freq': [20]\n",
    "#     'max_bin': [100, 150]\n",
    "}\n",
    "gs, pred = algorithm_pipeline(lgbmclf, param_grid, cv=3) # some parameters already define above, see function algorithm_pipeline()\n",
    "print(gs.best_score_)\n",
    "print(gs.best_params_)"
   ]
  },
  {
   "cell_type": "markdown",
   "metadata": {},
   "source": [
    "Prediction and result:"
   ]
  },
  {
   "cell_type": "code",
   "execution_count": 34,
   "metadata": {},
   "outputs": [
    {
     "name": "stdout",
     "output_type": "stream",
     "text": [
      "Train(accuracy): 0.98999\n",
      "Test(accuracy): 0.89505\n",
      "\n",
      "              precision    recall  f1-score   support\n",
      "\n",
      "           0       0.91      0.93      0.92     15033\n",
      "           1       0.87      0.84      0.86      8845\n",
      "\n",
      "    accuracy                           0.90     23878\n",
      "   macro avg       0.89      0.88      0.89     23878\n",
      "weighted avg       0.89      0.90      0.89     23878\n",
      "\n"
     ]
    },
    {
     "data": {
      "text/plain": [
       "<matplotlib.axes._subplots.AxesSubplot at 0x1cab3f4b2c8>"
      ]
     },
     "execution_count": 34,
     "metadata": {},
     "output_type": "execute_result"
    },
    {
     "data": {
      "image/png": "[encoded data removed]",
      "text/plain": [
       "<Figure size 432x288 with 2 Axes>"
      ]
     },
     "metadata": {
      "needs_background": "light"
     },
     "output_type": "display_data"
    }
   ],
   "source": [
    "clf = gs.best_estimator_\n",
    "clf.fit(X_train, y_train)\n",
    "print(f'Train(accuracy): {clf.score(X_train, y_train).round(5)}') # Python >= 3.7\n",
    "print(f'Test(accuracy): {clf.score(X_test, y_test).round(5)}\\n')\n",
    "y_pred = clf.predict(X_test)\n",
    "print(metrics.classification_report(y_test, y_pred))\n",
    "\n",
    "cm_matrix = pd.DataFrame(data=metrics.confusion_matrix(y_test, y_pred), columns=['PP', 'PN'], index=['AP', 'AN'])\n",
    "cm_plot = sns.heatmap(cm_matrix, annot=True, fmt='d', cmap='RdBu_r') # visualize confusion matrix with seaborn heatmap\n",
    "cm_plot"
   ]
  },
  {
   "cell_type": "markdown",
   "metadata": {},
   "source": [
    "Dump the model to file for persistence:"
   ]
  },
  {
   "cell_type": "code",
   "execution_count": 35,
   "metadata": {},
   "outputs": [
    {
     "name": "stdout",
     "output_type": "stream",
     "text": [
      "{'feature_fraction': 0.5, 'lambda_l2': 0.3, 'max_depth': 25, 'n_estimators': 3000, 'num_leaves': 50, 'objective': 'binary'}\n"
     ]
    },
    {
     "data": {
      "text/plain": [
       "['../models/LightGBM_04152334.model']"
      ]
     },
     "execution_count": 35,
     "metadata": {},
     "output_type": "execute_result"
    }
   ],
   "source": [
    "now = datetime.datetime.now()\n",
    "file_name = \"../models/LightGBM_\" + now.strftime(\"%m%d%H%M\")\n",
    "\n",
    "# save parameters\n",
    "with open(f\"{file_name}_{gs.best_score_.round(4)*100}%.txt\", \"w\") as para_file:\n",
    "    para_file.write(str(gs.best_params_))\n",
    "    print(gs.best_params_)\n",
    "    \n",
    "# save figure\n",
    "cm_plot.get_figure().savefig(file_name + \".png\")\n",
    "\n",
    "# save model\n",
    "joblib.dump(clf, file_name + \".model\")\n",
    "\n",
    "# use this to load a saved model\n",
    "# lgbm_loded = joblib.load('.model')"
   ]
  },
  {
   "cell_type": "markdown",
   "metadata": {},
   "source": [
    "## 3. XGBoost"
   ]
  },
  {
   "cell_type": "markdown",
   "metadata": {},
   "source": [
    "XGBoost - Extreme Gradient Boosting, which is an efficient implementation of the gradient boosting framework from Chen & Guestrin (2016) <doi:10.1145/2939672.2939785>.\n",
    "  \n",
    "[Github](https://github.com/dmlc/xgboost) | [Documentation](https://xgboost.readthedocs.io/en/latest/python/index.html) | \n",
    "[Parameter Tuning (official tutorial)](https://xgboost.readthedocs.io/en/latest/tutorials/param_tuning.html)\n",
    "\n",
    "Parameter tuning using GS"
   ]
  },
  {
   "cell_type": "code",
   "execution_count": 12,
   "metadata": {},
   "outputs": [
    {
     "name": "stdout",
     "output_type": "stream",
     "text": [
      "Fitting 3 folds for each of 4 candidates, totalling 12 fits\n"
     ]
    },
    {
     "name": "stderr",
     "output_type": "stream",
     "text": [
      "[Parallel(n_jobs=-1)]: Using backend LokyBackend with 6 concurrent workers.\n",
      "[Parallel(n_jobs=-1)]: Done   8 out of  12 | elapsed:   59.1s remaining:   29.5s\n",
      "[Parallel(n_jobs=-1)]: Done  12 out of  12 | elapsed:  1.5min finished\n"
     ]
    },
    {
     "name": "stdout",
     "output_type": "stream",
     "text": [
      "0.8877523244002781\n",
      "{'colsample_bytree': 0.7, 'max_depth': 15, 'n_estimators': 100}\n"
     ]
    }
   ],
   "source": [
    "xgb = XGBClassifier()\n",
    "param_grid = {\n",
    "    'n_estimators': [100],\n",
    "    'colsample_bytree': [0.7, 0.8],\n",
    "    'max_depth': [15,25],\n",
    "#     'reg_alpha': [1.1, 1.3],\n",
    "#     'reg_lambda': [1.1, 1.3],\n",
    "#     'subsample': [0.7, 0.9],\n",
    "#      'tree_method':['gpu_hist'],\n",
    "#      'gpu_id':[1]\n",
    "}\n",
    "gs, pred = algorithm_pipeline(xgb, param_grid, cv=3)\n",
    "print(gs.best_score_)\n",
    "print(gs.best_params_)"
   ]
  },
  {
   "cell_type": "markdown",
   "metadata": {},
   "source": [
    "Prediction and result:"
   ]
  },
  {
   "cell_type": "code",
   "execution_count": 13,
   "metadata": {},
   "outputs": [
    {
     "name": "stdout",
     "output_type": "stream",
     "text": [
      "Train(accuracy): 0.99495\n",
      "Test(accuracy): 0.89333\n",
      "\n",
      "              precision    recall  f1-score   support\n",
      "\n",
      "           0       0.90      0.93      0.92     15033\n",
      "           1       0.87      0.83      0.85      8845\n",
      "\n",
      "    accuracy                           0.89     23878\n",
      "   macro avg       0.89      0.88      0.88     23878\n",
      "weighted avg       0.89      0.89      0.89     23878\n",
      "\n"
     ]
    },
    {
     "data": {
      "text/plain": [
       "<matplotlib.axes._subplots.AxesSubplot at 0x1caad6d7748>"
      ]
     },
     "execution_count": 13,
     "metadata": {},
     "output_type": "execute_result"
    },
    {
     "data": {
      "image/png": "[encoded data removed]",
      "text/plain": [
       "<Figure size 432x288 with 2 Axes>"
      ]
     },
     "metadata": {
      "needs_background": "light"
     },
     "output_type": "display_data"
    }
   ],
   "source": [
    "clf = gs.best_estimator_\n",
    "clf.fit(X_train, y_train)\n",
    "print(f'Train(accuracy): {clf.score(X_train, y_train).round(5)}') # Python >= 3.7\n",
    "print(f'Test(accuracy): {clf.score(X_test, y_test).round(5)}\\n')\n",
    "y_pred = clf.predict(X_test)\n",
    "print(metrics.classification_report(y_test, y_pred))\n",
    "\n",
    "cm_matrix = pd.DataFrame(data=metrics.confusion_matrix(y_test, y_pred), columns=['PP', 'PN'], index=['AP', 'AN'])\n",
    "cm_plot = sns.heatmap(cm_matrix, annot=True, fmt='d', cmap='RdBu_r') # visualize confusion matrix with seaborn heatmap\n",
    "cm_plot"
   ]
  },
  {
   "cell_type": "markdown",
   "metadata": {},
   "source": [
    "Dumping to file:"
   ]
  },
  {
   "cell_type": "code",
   "execution_count": 14,
   "metadata": {},
   "outputs": [
    {
     "name": "stdout",
     "output_type": "stream",
     "text": [
      "{'colsample_bytree': 0.7, 'max_depth': 15, 'n_estimators': 100}\n"
     ]
    },
    {
     "data": {
      "text/plain": [
       "['../models/XGBoost_04152029.model']"
      ]
     },
     "execution_count": 14,
     "metadata": {},
     "output_type": "execute_result"
    }
   ],
   "source": [
    "now = datetime.datetime.now()\n",
    "file_name = \"../models/XGBoost_\" + now.strftime(\"%m%d%H%M\")\n",
    "\n",
    "# save parameters\n",
    "with open(f\"{file_name}_{gs.best_score_.round(4)*100}%.txt\", \"w\") as para_file:\n",
    "    para_file.write(str(gs.best_params_))\n",
    "    print(gs.best_params_)\n",
    "    \n",
    "# save figure\n",
    "cm_plot.get_figure().savefig(file_name + \".png\")\n",
    "\n",
    "# save model\n",
    "joblib.dump(clf, file_name + \".model\")\n",
    "\n",
    "# use this to load a saved model\n",
    "# lgbm_loded = joblib.load('.model')"
   ]
  },
  {
   "cell_type": "markdown",
   "metadata": {},
   "source": [
    "## 4. Random Forest (🛑 no GS hitherto)"
   ]
  },
  {
   "cell_type": "markdown",
   "metadata": {},
   "source": [
    "Fit the training set:"
   ]
  },
  {
   "cell_type": "code",
   "execution_count": 15,
   "metadata": {},
   "outputs": [
    {
     "data": {
      "text/plain": [
       "RandomForestClassifier(bootstrap=True, ccp_alpha=0.0, class_weight=None,\n",
       "                       criterion='gini', max_depth=25, max_features='auto',\n",
       "                       max_leaf_nodes=None, max_samples=None,\n",
       "                       min_impurity_decrease=0.0, min_impurity_split=None,\n",
       "                       min_samples_leaf=1, min_samples_split=2,\n",
       "                       min_weight_fraction_leaf=0.0, n_estimators=100,\n",
       "                       n_jobs=-1, oob_score=False, random_state=0, verbose=0,\n",
       "                       warm_start=False)"
      ]
     },
     "execution_count": 15,
     "metadata": {},
     "output_type": "execute_result"
    }
   ],
   "source": [
    "# feat_labels = X_train.columns\n",
    "# X_train = X_train[feat_labels]\n",
    "forest = RandomForestClassifier(n_estimators = 100, max_depth = 25, n_jobs = -1, \n",
    "                               random_state = 0, bootstrap = True)\n",
    "forest.fit(X_train, y_train)"
   ]
  },
  {
   "cell_type": "markdown",
   "metadata": {},
   "source": [
    "Prediction and result:"
   ]
  },
  {
   "cell_type": "code",
   "execution_count": 16,
   "metadata": {},
   "outputs": [
    {
     "name": "stdout",
     "output_type": "stream",
     "text": [
      "Train(accuracy): 0.97796\n",
      "Test(accuracy): 0.8925\n",
      "\n",
      "              precision    recall  f1-score   support\n",
      "\n",
      "           0       0.90      0.94      0.92     15033\n",
      "           1       0.89      0.81      0.85      8845\n",
      "\n",
      "    accuracy                           0.89     23878\n",
      "   macro avg       0.89      0.88      0.88     23878\n",
      "weighted avg       0.89      0.89      0.89     23878\n",
      "\n"
     ]
    },
    {
     "data": {
      "text/plain": [
       "<matplotlib.axes._subplots.AxesSubplot at 0x1caac568488>"
      ]
     },
     "execution_count": 16,
     "metadata": {},
     "output_type": "execute_result"
    },
    {
     "data": {
      "image/png": "[encoded data removed]",
      "text/plain": [
       "<Figure size 432x288 with 2 Axes>"
      ]
     },
     "metadata": {
      "needs_background": "light"
     },
     "output_type": "display_data"
    }
   ],
   "source": [
    "y_pred = forest.predict(X_test)\n",
    "print(f'Train(accuracy): {forest.score(X_train, y_train).round(5)}')\n",
    "print(f'Test(accuracy): {forest.score(X_test, y_test).round(5)}\\n')\n",
    "print(metrics.classification_report(y_test, y_pred))\n",
    "\n",
    "cm_matrix = pd.DataFrame(data=metrics.confusion_matrix(y_test, y_pred), columns=['PP', 'PN'], index=['AP', 'AN'])\n",
    "cm_plot = sns.heatmap(cm_matrix, annot=True, fmt='d', cmap='RdBu_r') # visualize confusion matrix with seaborn heatmap\n",
    "cm_plot"
   ]
  },
  {
   "cell_type": "markdown",
   "metadata": {},
   "source": [
    "Feature importance:"
   ]
  },
  {
   "cell_type": "code",
   "execution_count": 17,
   "metadata": {},
   "outputs": [
    {
     "name": "stdout",
     "output_type": "stream",
     "text": [
      " 1) hotel                          0.146114\n",
      " 2) lead_time                      0.120920\n",
      " 3) arrival_date_month             0.115639\n",
      " 4) arrival_date_week_number       0.068819\n",
      " 5) arrival_date_day_of_month      0.062851\n",
      " 6) stays_in_weekend_nights        0.059945\n",
      " 7) stays_in_week_nights           0.046318\n",
      " 8) adults                         0.045873\n",
      " 9) children                       0.044790\n",
      "10) babies                         0.035386\n",
      "11) meal                           0.030336\n",
      "12) country                        0.026822\n",
      "13) market_segment                 0.026390\n",
      "14) distribution_channel           0.025442\n",
      "15) is_repeated_guest              0.024904\n",
      "16) previous_cancellations         0.022886\n",
      "17) previous_bookings_not_canceled 0.019146\n",
      "18) reserved_room_type             0.014447\n",
      "19) assigned_room_type             0.011666\n",
      "20) booking_changes                0.011630\n",
      "21) deposit_type                   0.010561\n",
      "22) agent                          0.009580\n",
      "23) company                        0.005719\n",
      "24) days_in_waiting_list           0.004627\n",
      "25) customer_type                  0.004015\n",
      "26) adr                            0.002204\n",
      "27) required_car_parking_spaces    0.002110\n",
      "28) total_of_special_requests      0.000859\n"
     ]
    }
   ],
   "source": [
    "importances = forest.feature_importances_\n",
    "feat_labels = X_train.columns\n",
    "indices = np.argsort(importances)[::-1]\n",
    "for f in range(X_train.shape[1]):\n",
    "     print(\"%2d) %-*s %f\" % (f + 1, 30, \n",
    "                             feat_labels[f], \n",
    "                             importances[indices[f]]))"
   ]
  },
  {
   "cell_type": "markdown",
   "metadata": {},
   "source": [
    "Save:"
   ]
  },
  {
   "cell_type": "code",
   "execution_count": 18,
   "metadata": {},
   "outputs": [
    {
     "name": "stdout",
     "output_type": "stream",
     "text": [
      "{'colsample_bytree': 0.7, 'max_depth': 15, 'n_estimators': 100}\n"
     ]
    },
    {
     "data": {
      "text/plain": [
       "['../models/RandomForest_04152029.model']"
      ]
     },
     "execution_count": 18,
     "metadata": {},
     "output_type": "execute_result"
    }
   ],
   "source": [
    "clf = forest\n",
    "now = datetime.datetime.now()\n",
    "file_name = \"../models/RandomForest_\" + now.strftime(\"%m%d%H%M\")\n",
    "\n",
    "# save parameters\n",
    "with open(f\"{file_name}_{gs.best_score_.round(4)*100}%.txt\", \"w\") as para_file:\n",
    "    para_file.write(str(gs.best_params_))\n",
    "    print(gs.best_params_)\n",
    "    \n",
    "# save figure\n",
    "cm_plot.get_figure().savefig(file_name + \".png\")\n",
    "\n",
    "# save model\n",
    "joblib.dump(clf, file_name + \".model\")\n",
    "\n",
    "# use this to load a saved model\n",
    "# lgbm_loded = joblib.load('.model')"
   ]
  },
  {
   "cell_type": "code",
   "execution_count": null,
   "metadata": {},
   "outputs": [],
   "source": []
  }
 ],
 "metadata": {
  "kernelspec": {
   "display_name": "Python 3",
   "language": "python",
   "name": "python3"
  },
  "language_info": {
   "codemirror_mode": {
    "name": "ipython",
    "version": 3
   },
   "file_extension": ".py",
   "mimetype": "text/x-python",
   "name": "python",
   "nbconvert_exporter": "python",
   "pygments_lexer": "ipython3",
   "version": "3.7.4"
  }
 },
 "nbformat": 4,
 "nbformat_minor": 4
}
